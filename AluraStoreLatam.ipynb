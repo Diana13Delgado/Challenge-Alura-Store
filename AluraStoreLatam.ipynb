{
  "nbformat": 4,
  "nbformat_minor": 0,
  "metadata": {
    "colab": {
      "provenance": [],
      "include_colab_link": true
    },
    "kernelspec": {
      "name": "python3",
      "display_name": "Python 3"
    },
    "language_info": {
      "name": "python"
    }
  },
  "cells": [
    {
      "cell_type": "markdown",
      "metadata": {
        "id": "view-in-github",
        "colab_type": "text"
      },
      "source": [
        "<a href=\"https://colab.research.google.com/github/Diana13Delgado/Challenge-Alura-Store/blob/main/AluraStoreLatam.ipynb\" target=\"_parent\"><img src=\"https://colab.research.google.com/assets/colab-badge.svg\" alt=\"Open In Colab\"/></a>"
      ]
    },
    {
      "cell_type": "markdown",
      "source": [
        "### Importación de datos\n",
        "\n"
      ],
      "metadata": {
        "id": "RhEdWd9YUR6H"
      }
    },
    {
      "cell_type": "code",
      "execution_count": 2,
      "metadata": {
        "colab": {
          "base_uri": "https://localhost:8080/",
          "height": 400
        },
        "id": "T3EvaeQ_INIL",
        "outputId": "f51c1ae4-03b7-4d1d-dfdd-4b996e9512ce"
      },
      "outputs": [
        {
          "output_type": "execute_result",
          "data": {
            "text/plain": [
              "            Producto Categoría del Producto    Precio  Costo de envío  \\\n",
              "0  Asistente virtual           Electrónicos  164300.0          6900.0   \n",
              "1    Mesa de comedor                Muebles  192300.0          8400.0   \n",
              "2      Juego de mesa               Juguetes  209600.0         15900.0   \n",
              "3         Microondas      Electrodomésticos  757500.0         41000.0   \n",
              "4   Silla de oficina                Muebles  335200.0         20200.0   \n",
              "\n",
              "  Fecha de Compra         Vendedor Lugar de Compra  Calificación  \\\n",
              "0      16/01/2021      Pedro Gomez          Bogotá             4   \n",
              "1      18/05/2022  Beatriz Morales        Medellín             1   \n",
              "2      15/03/2021   Juan Fernandez       Cartagena             1   \n",
              "3      03/05/2022   Juan Fernandez            Cali             4   \n",
              "4      07/11/2020    Maria Alfonso        Medellín             5   \n",
              "\n",
              "       Método de pago  Cantidad de cuotas       lat       lon  \n",
              "0  Tarjeta de crédito                   8   4.60971 -74.08175  \n",
              "1  Tarjeta de crédito                   4   6.25184 -75.56359  \n",
              "2  Tarjeta de crédito                   1  10.39972 -75.51444  \n",
              "3               Nequi                   1   3.43722 -76.52250  \n",
              "4               Nequi                   1   6.25184 -75.56359  "
            ],
            "text/html": [
              "\n",
              "  <div id=\"df-5e003363-0b4d-476d-80bd-36c46bafffb7\" class=\"colab-df-container\">\n",
              "    <div>\n",
              "<style scoped>\n",
              "    .dataframe tbody tr th:only-of-type {\n",
              "        vertical-align: middle;\n",
              "    }\n",
              "\n",
              "    .dataframe tbody tr th {\n",
              "        vertical-align: top;\n",
              "    }\n",
              "\n",
              "    .dataframe thead th {\n",
              "        text-align: right;\n",
              "    }\n",
              "</style>\n",
              "<table border=\"1\" class=\"dataframe\">\n",
              "  <thead>\n",
              "    <tr style=\"text-align: right;\">\n",
              "      <th></th>\n",
              "      <th>Producto</th>\n",
              "      <th>Categoría del Producto</th>\n",
              "      <th>Precio</th>\n",
              "      <th>Costo de envío</th>\n",
              "      <th>Fecha de Compra</th>\n",
              "      <th>Vendedor</th>\n",
              "      <th>Lugar de Compra</th>\n",
              "      <th>Calificación</th>\n",
              "      <th>Método de pago</th>\n",
              "      <th>Cantidad de cuotas</th>\n",
              "      <th>lat</th>\n",
              "      <th>lon</th>\n",
              "    </tr>\n",
              "  </thead>\n",
              "  <tbody>\n",
              "    <tr>\n",
              "      <th>0</th>\n",
              "      <td>Asistente virtual</td>\n",
              "      <td>Electrónicos</td>\n",
              "      <td>164300.0</td>\n",
              "      <td>6900.0</td>\n",
              "      <td>16/01/2021</td>\n",
              "      <td>Pedro Gomez</td>\n",
              "      <td>Bogotá</td>\n",
              "      <td>4</td>\n",
              "      <td>Tarjeta de crédito</td>\n",
              "      <td>8</td>\n",
              "      <td>4.60971</td>\n",
              "      <td>-74.08175</td>\n",
              "    </tr>\n",
              "    <tr>\n",
              "      <th>1</th>\n",
              "      <td>Mesa de comedor</td>\n",
              "      <td>Muebles</td>\n",
              "      <td>192300.0</td>\n",
              "      <td>8400.0</td>\n",
              "      <td>18/05/2022</td>\n",
              "      <td>Beatriz Morales</td>\n",
              "      <td>Medellín</td>\n",
              "      <td>1</td>\n",
              "      <td>Tarjeta de crédito</td>\n",
              "      <td>4</td>\n",
              "      <td>6.25184</td>\n",
              "      <td>-75.56359</td>\n",
              "    </tr>\n",
              "    <tr>\n",
              "      <th>2</th>\n",
              "      <td>Juego de mesa</td>\n",
              "      <td>Juguetes</td>\n",
              "      <td>209600.0</td>\n",
              "      <td>15900.0</td>\n",
              "      <td>15/03/2021</td>\n",
              "      <td>Juan Fernandez</td>\n",
              "      <td>Cartagena</td>\n",
              "      <td>1</td>\n",
              "      <td>Tarjeta de crédito</td>\n",
              "      <td>1</td>\n",
              "      <td>10.39972</td>\n",
              "      <td>-75.51444</td>\n",
              "    </tr>\n",
              "    <tr>\n",
              "      <th>3</th>\n",
              "      <td>Microondas</td>\n",
              "      <td>Electrodomésticos</td>\n",
              "      <td>757500.0</td>\n",
              "      <td>41000.0</td>\n",
              "      <td>03/05/2022</td>\n",
              "      <td>Juan Fernandez</td>\n",
              "      <td>Cali</td>\n",
              "      <td>4</td>\n",
              "      <td>Nequi</td>\n",
              "      <td>1</td>\n",
              "      <td>3.43722</td>\n",
              "      <td>-76.52250</td>\n",
              "    </tr>\n",
              "    <tr>\n",
              "      <th>4</th>\n",
              "      <td>Silla de oficina</td>\n",
              "      <td>Muebles</td>\n",
              "      <td>335200.0</td>\n",
              "      <td>20200.0</td>\n",
              "      <td>07/11/2020</td>\n",
              "      <td>Maria Alfonso</td>\n",
              "      <td>Medellín</td>\n",
              "      <td>5</td>\n",
              "      <td>Nequi</td>\n",
              "      <td>1</td>\n",
              "      <td>6.25184</td>\n",
              "      <td>-75.56359</td>\n",
              "    </tr>\n",
              "  </tbody>\n",
              "</table>\n",
              "</div>\n",
              "    <div class=\"colab-df-buttons\">\n",
              "\n",
              "  <div class=\"colab-df-container\">\n",
              "    <button class=\"colab-df-convert\" onclick=\"convertToInteractive('df-5e003363-0b4d-476d-80bd-36c46bafffb7')\"\n",
              "            title=\"Convert this dataframe to an interactive table.\"\n",
              "            style=\"display:none;\">\n",
              "\n",
              "  <svg xmlns=\"http://www.w3.org/2000/svg\" height=\"24px\" viewBox=\"0 -960 960 960\">\n",
              "    <path d=\"M120-120v-720h720v720H120Zm60-500h600v-160H180v160Zm220 220h160v-160H400v160Zm0 220h160v-160H400v160ZM180-400h160v-160H180v160Zm440 0h160v-160H620v160ZM180-180h160v-160H180v160Zm440 0h160v-160H620v160Z\"/>\n",
              "  </svg>\n",
              "    </button>\n",
              "\n",
              "  <style>\n",
              "    .colab-df-container {\n",
              "      display:flex;\n",
              "      gap: 12px;\n",
              "    }\n",
              "\n",
              "    .colab-df-convert {\n",
              "      background-color: #E8F0FE;\n",
              "      border: none;\n",
              "      border-radius: 50%;\n",
              "      cursor: pointer;\n",
              "      display: none;\n",
              "      fill: #1967D2;\n",
              "      height: 32px;\n",
              "      padding: 0 0 0 0;\n",
              "      width: 32px;\n",
              "    }\n",
              "\n",
              "    .colab-df-convert:hover {\n",
              "      background-color: #E2EBFA;\n",
              "      box-shadow: 0px 1px 2px rgba(60, 64, 67, 0.3), 0px 1px 3px 1px rgba(60, 64, 67, 0.15);\n",
              "      fill: #174EA6;\n",
              "    }\n",
              "\n",
              "    .colab-df-buttons div {\n",
              "      margin-bottom: 4px;\n",
              "    }\n",
              "\n",
              "    [theme=dark] .colab-df-convert {\n",
              "      background-color: #3B4455;\n",
              "      fill: #D2E3FC;\n",
              "    }\n",
              "\n",
              "    [theme=dark] .colab-df-convert:hover {\n",
              "      background-color: #434B5C;\n",
              "      box-shadow: 0px 1px 3px 1px rgba(0, 0, 0, 0.15);\n",
              "      filter: drop-shadow(0px 1px 2px rgba(0, 0, 0, 0.3));\n",
              "      fill: #FFFFFF;\n",
              "    }\n",
              "  </style>\n",
              "\n",
              "    <script>\n",
              "      const buttonEl =\n",
              "        document.querySelector('#df-5e003363-0b4d-476d-80bd-36c46bafffb7 button.colab-df-convert');\n",
              "      buttonEl.style.display =\n",
              "        google.colab.kernel.accessAllowed ? 'block' : 'none';\n",
              "\n",
              "      async function convertToInteractive(key) {\n",
              "        const element = document.querySelector('#df-5e003363-0b4d-476d-80bd-36c46bafffb7');\n",
              "        const dataTable =\n",
              "          await google.colab.kernel.invokeFunction('convertToInteractive',\n",
              "                                                    [key], {});\n",
              "        if (!dataTable) return;\n",
              "\n",
              "        const docLinkHtml = 'Like what you see? Visit the ' +\n",
              "          '<a target=\"_blank\" href=https://colab.research.google.com/notebooks/data_table.ipynb>data table notebook</a>'\n",
              "          + ' to learn more about interactive tables.';\n",
              "        element.innerHTML = '';\n",
              "        dataTable['output_type'] = 'display_data';\n",
              "        await google.colab.output.renderOutput(dataTable, element);\n",
              "        const docLink = document.createElement('div');\n",
              "        docLink.innerHTML = docLinkHtml;\n",
              "        element.appendChild(docLink);\n",
              "      }\n",
              "    </script>\n",
              "  </div>\n",
              "\n",
              "\n",
              "    <div id=\"df-6a9b40fa-464e-415e-a870-8f05fe52f0b5\">\n",
              "      <button class=\"colab-df-quickchart\" onclick=\"quickchart('df-6a9b40fa-464e-415e-a870-8f05fe52f0b5')\"\n",
              "                title=\"Suggest charts\"\n",
              "                style=\"display:none;\">\n",
              "\n",
              "<svg xmlns=\"http://www.w3.org/2000/svg\" height=\"24px\"viewBox=\"0 0 24 24\"\n",
              "     width=\"24px\">\n",
              "    <g>\n",
              "        <path d=\"M19 3H5c-1.1 0-2 .9-2 2v14c0 1.1.9 2 2 2h14c1.1 0 2-.9 2-2V5c0-1.1-.9-2-2-2zM9 17H7v-7h2v7zm4 0h-2V7h2v10zm4 0h-2v-4h2v4z\"/>\n",
              "    </g>\n",
              "</svg>\n",
              "      </button>\n",
              "\n",
              "<style>\n",
              "  .colab-df-quickchart {\n",
              "      --bg-color: #E8F0FE;\n",
              "      --fill-color: #1967D2;\n",
              "      --hover-bg-color: #E2EBFA;\n",
              "      --hover-fill-color: #174EA6;\n",
              "      --disabled-fill-color: #AAA;\n",
              "      --disabled-bg-color: #DDD;\n",
              "  }\n",
              "\n",
              "  [theme=dark] .colab-df-quickchart {\n",
              "      --bg-color: #3B4455;\n",
              "      --fill-color: #D2E3FC;\n",
              "      --hover-bg-color: #434B5C;\n",
              "      --hover-fill-color: #FFFFFF;\n",
              "      --disabled-bg-color: #3B4455;\n",
              "      --disabled-fill-color: #666;\n",
              "  }\n",
              "\n",
              "  .colab-df-quickchart {\n",
              "    background-color: var(--bg-color);\n",
              "    border: none;\n",
              "    border-radius: 50%;\n",
              "    cursor: pointer;\n",
              "    display: none;\n",
              "    fill: var(--fill-color);\n",
              "    height: 32px;\n",
              "    padding: 0;\n",
              "    width: 32px;\n",
              "  }\n",
              "\n",
              "  .colab-df-quickchart:hover {\n",
              "    background-color: var(--hover-bg-color);\n",
              "    box-shadow: 0 1px 2px rgba(60, 64, 67, 0.3), 0 1px 3px 1px rgba(60, 64, 67, 0.15);\n",
              "    fill: var(--button-hover-fill-color);\n",
              "  }\n",
              "\n",
              "  .colab-df-quickchart-complete:disabled,\n",
              "  .colab-df-quickchart-complete:disabled:hover {\n",
              "    background-color: var(--disabled-bg-color);\n",
              "    fill: var(--disabled-fill-color);\n",
              "    box-shadow: none;\n",
              "  }\n",
              "\n",
              "  .colab-df-spinner {\n",
              "    border: 2px solid var(--fill-color);\n",
              "    border-color: transparent;\n",
              "    border-bottom-color: var(--fill-color);\n",
              "    animation:\n",
              "      spin 1s steps(1) infinite;\n",
              "  }\n",
              "\n",
              "  @keyframes spin {\n",
              "    0% {\n",
              "      border-color: transparent;\n",
              "      border-bottom-color: var(--fill-color);\n",
              "      border-left-color: var(--fill-color);\n",
              "    }\n",
              "    20% {\n",
              "      border-color: transparent;\n",
              "      border-left-color: var(--fill-color);\n",
              "      border-top-color: var(--fill-color);\n",
              "    }\n",
              "    30% {\n",
              "      border-color: transparent;\n",
              "      border-left-color: var(--fill-color);\n",
              "      border-top-color: var(--fill-color);\n",
              "      border-right-color: var(--fill-color);\n",
              "    }\n",
              "    40% {\n",
              "      border-color: transparent;\n",
              "      border-right-color: var(--fill-color);\n",
              "      border-top-color: var(--fill-color);\n",
              "    }\n",
              "    60% {\n",
              "      border-color: transparent;\n",
              "      border-right-color: var(--fill-color);\n",
              "    }\n",
              "    80% {\n",
              "      border-color: transparent;\n",
              "      border-right-color: var(--fill-color);\n",
              "      border-bottom-color: var(--fill-color);\n",
              "    }\n",
              "    90% {\n",
              "      border-color: transparent;\n",
              "      border-bottom-color: var(--fill-color);\n",
              "    }\n",
              "  }\n",
              "</style>\n",
              "\n",
              "      <script>\n",
              "        async function quickchart(key) {\n",
              "          const quickchartButtonEl =\n",
              "            document.querySelector('#' + key + ' button');\n",
              "          quickchartButtonEl.disabled = true;  // To prevent multiple clicks.\n",
              "          quickchartButtonEl.classList.add('colab-df-spinner');\n",
              "          try {\n",
              "            const charts = await google.colab.kernel.invokeFunction(\n",
              "                'suggestCharts', [key], {});\n",
              "          } catch (error) {\n",
              "            console.error('Error during call to suggestCharts:', error);\n",
              "          }\n",
              "          quickchartButtonEl.classList.remove('colab-df-spinner');\n",
              "          quickchartButtonEl.classList.add('colab-df-quickchart-complete');\n",
              "        }\n",
              "        (() => {\n",
              "          let quickchartButtonEl =\n",
              "            document.querySelector('#df-6a9b40fa-464e-415e-a870-8f05fe52f0b5 button');\n",
              "          quickchartButtonEl.style.display =\n",
              "            google.colab.kernel.accessAllowed ? 'block' : 'none';\n",
              "        })();\n",
              "      </script>\n",
              "    </div>\n",
              "\n",
              "    </div>\n",
              "  </div>\n"
            ],
            "application/vnd.google.colaboratory.intrinsic+json": {
              "type": "dataframe",
              "variable_name": "tienda",
              "summary": "{\n  \"name\": \"tienda\",\n  \"rows\": 2359,\n  \"fields\": [\n    {\n      \"column\": \"Producto\",\n      \"properties\": {\n        \"dtype\": \"category\",\n        \"num_unique_values\": 51,\n        \"samples\": [\n          \"Guitarra ac\\u00fastica\",\n          \"Bal\\u00f3n de baloncesto\",\n          \"Smartwatch\"\n        ],\n        \"semantic_type\": \"\",\n        \"description\": \"\"\n      }\n    },\n    {\n      \"column\": \"Categor\\u00eda del Producto\",\n      \"properties\": {\n        \"dtype\": \"category\",\n        \"num_unique_values\": 8,\n        \"samples\": [\n          \"Muebles\",\n          \"Deportes y diversi\\u00f3n\",\n          \"Electr\\u00f3nicos\"\n        ],\n        \"semantic_type\": \"\",\n        \"description\": \"\"\n      }\n    },\n    {\n      \"column\": \"Precio\",\n      \"properties\": {\n        \"dtype\": \"number\",\n        \"std\": 614686.7653873172,\n        \"min\": 7600.0,\n        \"max\": 2977000.0,\n        \"num_unique_values\": 1937,\n        \"samples\": [\n          2499400.0,\n          14800.0,\n          80500.0\n        ],\n        \"semantic_type\": \"\",\n        \"description\": \"\"\n      }\n    },\n    {\n      \"column\": \"Costo de env\\u00edo\",\n      \"properties\": {\n        \"dtype\": \"number\",\n        \"std\": 32860.0017825605,\n        \"min\": 0.0,\n        \"max\": 160800.0,\n        \"num_unique_values\": 753,\n        \"samples\": [\n          117800.0,\n          54700.0,\n          45600.0\n        ],\n        \"semantic_type\": \"\",\n        \"description\": \"\"\n      }\n    },\n    {\n      \"column\": \"Fecha de Compra\",\n      \"properties\": {\n        \"dtype\": \"object\",\n        \"num_unique_values\": 1018,\n        \"samples\": [\n          \"15/09/2022\",\n          \"03/06/2020\",\n          \"06/11/2021\"\n        ],\n        \"semantic_type\": \"\",\n        \"description\": \"\"\n      }\n    },\n    {\n      \"column\": \"Vendedor\",\n      \"properties\": {\n        \"dtype\": \"category\",\n        \"num_unique_values\": 14,\n        \"samples\": [\n          \"Juliana Costa\",\n          \"Mariana Herrera\",\n          \"Pedro Gomez\"\n        ],\n        \"semantic_type\": \"\",\n        \"description\": \"\"\n      }\n    },\n    {\n      \"column\": \"Lugar de Compra\",\n      \"properties\": {\n        \"dtype\": \"category\",\n        \"num_unique_values\": 19,\n        \"samples\": [\n          \"Bogot\\u00e1\",\n          \"Pereira\",\n          \"Neiva\"\n        ],\n        \"semantic_type\": \"\",\n        \"description\": \"\"\n      }\n    },\n    {\n      \"column\": \"Calificaci\\u00f3n\",\n      \"properties\": {\n        \"dtype\": \"number\",\n        \"std\": 1,\n        \"min\": 1,\n        \"max\": 5,\n        \"num_unique_values\": 5,\n        \"samples\": [\n          1,\n          2,\n          5\n        ],\n        \"semantic_type\": \"\",\n        \"description\": \"\"\n      }\n    },\n    {\n      \"column\": \"M\\u00e9todo de pago\",\n      \"properties\": {\n        \"dtype\": \"category\",\n        \"num_unique_values\": 4,\n        \"samples\": [\n          \"Nequi\",\n          \"Tarjeta de d\\u00e9bito\",\n          \"Tarjeta de cr\\u00e9dito\"\n        ],\n        \"semantic_type\": \"\",\n        \"description\": \"\"\n      }\n    },\n    {\n      \"column\": \"Cantidad de cuotas\",\n      \"properties\": {\n        \"dtype\": \"number\",\n        \"std\": 2,\n        \"min\": 1,\n        \"max\": 24,\n        \"num_unique_values\": 15,\n        \"samples\": [\n          7,\n          14,\n          8\n        ],\n        \"semantic_type\": \"\",\n        \"description\": \"\"\n      }\n    },\n    {\n      \"column\": \"lat\",\n      \"properties\": {\n        \"dtype\": \"number\",\n        \"std\": 2.2874452492678627,\n        \"min\": -4.21528,\n        \"max\": 11.54444,\n        \"num_unique_values\": 19,\n        \"samples\": [\n          4.60971,\n          4.81333,\n          2.9273\n        ],\n        \"semantic_type\": \"\",\n        \"description\": \"\"\n      }\n    },\n    {\n      \"column\": \"lon\",\n      \"properties\": {\n        \"dtype\": \"number\",\n        \"std\": 1.2178272727088486,\n        \"min\": -77.28111,\n        \"max\": -67.9239,\n        \"num_unique_values\": 19,\n        \"samples\": [\n          -74.08175,\n          -75.69611,\n          -75.28189\n        ],\n        \"semantic_type\": \"\",\n        \"description\": \"\"\n      }\n    }\n  ]\n}"
            }
          },
          "metadata": {},
          "execution_count": 2
        }
      ],
      "source": [
        "import pandas as pd\n",
        "\n",
        "url = \"https://raw.githubusercontent.com/alura-es-cursos/challenge1-data-science-latam/refs/heads/main/base-de-datos-challenge1-latam/tienda_1%20.csv\"\n",
        "url2 = \"https://raw.githubusercontent.com/alura-es-cursos/challenge1-data-science-latam/refs/heads/main/base-de-datos-challenge1-latam/tienda_2.csv\"\n",
        "url3 = \"https://raw.githubusercontent.com/alura-es-cursos/challenge1-data-science-latam/refs/heads/main/base-de-datos-challenge1-latam/tienda_3.csv\"\n",
        "url4 = \"https://raw.githubusercontent.com/alura-es-cursos/challenge1-data-science-latam/refs/heads/main/base-de-datos-challenge1-latam/tienda_4.csv\"\n",
        "\n",
        "tienda = pd.read_csv(url)\n",
        "tienda2 = pd.read_csv(url2)\n",
        "tienda3 = pd.read_csv(url3)\n",
        "tienda4 = pd.read_csv(url4)\n",
        "\n",
        "tienda.head()"
      ]
    },
    {
      "cell_type": "markdown",
      "source": [
        "#1. Análisis de facturación\n",
        "\n"
      ],
      "metadata": {
        "id": "X62IW3KFUIYm"
      }
    },
    {
      "cell_type": "code",
      "source": [
        "#Facturacion por tienda\n",
        "facturacion_tienda1 = tienda['Precio'].sum()\n",
        "facturacion_tienda2 = tienda2['Precio'].sum()\n",
        "facturacion_tienda3 = tienda3['Precio'].sum()\n",
        "facturacion_tienda4 = tienda4['Precio'].sum()"
      ],
      "metadata": {
        "id": "KDyr8E71V3m-"
      },
      "execution_count": 3,
      "outputs": []
    },
    {
      "cell_type": "code",
      "source": [
        "#Mostrar los resultados\n",
        "print(f\"La facturación de la tienda 1 es de: ${facturacion_tienda1:,.2f}\")\n",
        "print(f\"La facturación de la tienda 2 es de: ${facturacion_tienda2:,.2f}\")\n",
        "print(f\"La facturación de la tienda 3 es de: ${facturacion_tienda3:,.2f}\")\n",
        "print(f\"La facturación de la tienda 4 es de: ${facturacion_tienda4:,.2f}\")"
      ],
      "metadata": {
        "colab": {
          "base_uri": "https://localhost:8080/"
        },
        "id": "izhjrnFW_cEQ",
        "outputId": "8dc43b2d-cac6-4c19-ffb7-38ce7f065938"
      },
      "execution_count": 4,
      "outputs": [
        {
          "output_type": "stream",
          "name": "stdout",
          "text": [
            "La facturación de la tienda 1 es de: $1,150,880,400.00\n",
            "La facturación de la tienda 2 es de: $1,116,343,500.00\n",
            "La facturación de la tienda 3 es de: $1,098,019,600.00\n",
            "La facturación de la tienda 4 es de: $1,038,375,700.00\n"
          ]
        }
      ]
    },
    {
      "cell_type": "code",
      "source": [
        "#El ingreso total general\n",
        "ingreso_total = facturacion_tienda1 + facturacion_tienda2 + facturacion_tienda3 + facturacion_tienda4\n",
        "print(f'\\nEl ingreso total general de todas las tiendas es de : ${ingreso_total:,.2f}')"
      ],
      "metadata": {
        "colab": {
          "base_uri": "https://localhost:8080/"
        },
        "id": "5U_dD-19owKV",
        "outputId": "e1ee551e-b7ee-40a6-9879-29f4f75f36bc"
      },
      "execution_count": 5,
      "outputs": [
        {
          "output_type": "stream",
          "name": "stdout",
          "text": [
            "\n",
            "El ingreso total general de todas las tiendas es de : $4,403,619,200.00\n"
          ]
        }
      ]
    },
    {
      "cell_type": "markdown",
      "source": [
        "# 2. Ventas por categoría"
      ],
      "metadata": {
        "id": "2V_vcAPzWZmR"
      }
    },
    {
      "cell_type": "code",
      "source": [
        "# Agrupamos por categoría y contamos las ventas\n",
        "ventas_tienda1 = tienda.groupby(\"Categoría del Producto\").size().reset_index(name=\"Cantidad\").sort_values(by=\"Cantidad\", ascending=False)\n",
        "ventas_tienda2 = tienda2.groupby(\"Categoría del Producto\").size().reset_index(name=\"Cantidad\").sort_values(by=\"Cantidad\", ascending=False)\n",
        "ventas_tienda3 = tienda3.groupby(\"Categoría del Producto\").size().reset_index(name=\"Cantidad\").sort_values(by=\"Cantidad\", ascending=False)\n",
        "ventas_tienda4 = tienda4.groupby(\"Categoría del Producto\").size().reset_index(name=\"Cantidad\").sort_values(by=\"Cantidad\", ascending=False)\n",
        "\n",
        "# Mostramos los resultados\n",
        "print(\"Tienda 1:\\n\", ventas_tienda1, '\\n')\n",
        "print(\"Tienda 2:\\n\", ventas_tienda2, '\\n')\n",
        "print(\"Tienda 3:\\n\", ventas_tienda3, '\\n')\n",
        "print(\"Tienda 4:\\n\", ventas_tienda4, '\\n')"
      ],
      "metadata": {
        "colab": {
          "base_uri": "https://localhost:8080/"
        },
        "id": "EKzUBa6Hyf4P",
        "outputId": "8665bd3a-af73-43ef-b1fd-2ec557dae321"
      },
      "execution_count": 6,
      "outputs": [
        {
          "output_type": "stream",
          "name": "stdout",
          "text": [
            "Tienda 1:\n",
            "     Categoría del Producto  Cantidad\n",
            "7                  Muebles       465\n",
            "3             Electrónicos       448\n",
            "5                 Juguetes       324\n",
            "2        Electrodomésticos       312\n",
            "1     Deportes y diversión       284\n",
            "4   Instrumentos musicales       182\n",
            "6                   Libros       173\n",
            "0  Artículos para el hogar       171 \n",
            "\n",
            "Tienda 2:\n",
            "     Categoría del Producto  Cantidad\n",
            "7                  Muebles       442\n",
            "3             Electrónicos       422\n",
            "5                 Juguetes       313\n",
            "2        Electrodomésticos       305\n",
            "1     Deportes y diversión       275\n",
            "4   Instrumentos musicales       224\n",
            "6                   Libros       197\n",
            "0  Artículos para el hogar       181 \n",
            "\n",
            "Tienda 3:\n",
            "     Categoría del Producto  Cantidad\n",
            "7                  Muebles       499\n",
            "3             Electrónicos       451\n",
            "5                 Juguetes       315\n",
            "2        Electrodomésticos       278\n",
            "1     Deportes y diversión       277\n",
            "6                   Libros       185\n",
            "0  Artículos para el hogar       177\n",
            "4   Instrumentos musicales       177 \n",
            "\n",
            "Tienda 4:\n",
            "     Categoría del Producto  Cantidad\n",
            "7                  Muebles       480\n",
            "3             Electrónicos       451\n",
            "5                 Juguetes       338\n",
            "1     Deportes y diversión       277\n",
            "2        Electrodomésticos       254\n",
            "0  Artículos para el hogar       201\n",
            "6                   Libros       187\n",
            "4   Instrumentos musicales       170 \n",
            "\n"
          ]
        }
      ]
    },
    {
      "cell_type": "markdown",
      "source": [
        "# 3. Calificación promedio de la tienda\n"
      ],
      "metadata": {
        "id": "Rq6tU_xSY3jk"
      }
    },
    {
      "cell_type": "code",
      "source": [
        "# Calificación promedio por tienda\n",
        "calificacion_prom_t1 = tienda['Calificación'].mean()\n",
        "calificacion_prom_t2 = tienda2['Calificación'].mean()\n",
        "calificacion_prom_t3 = tienda3['Calificación'].mean()\n",
        "calificacion_prom_t4 = tienda4['Calificación'].mean()"
      ],
      "metadata": {
        "id": "5b_9k3yWAeb3"
      },
      "execution_count": 7,
      "outputs": []
    },
    {
      "cell_type": "code",
      "source": [
        "# Mostrar resultados\n",
        "print(f'Calificación promedio Tienda 1: {calificacion_prom_t1:.2f}')\n",
        "print(f'Calificación promedio Tienda 2: {calificacion_prom_t2:.2f}')\n",
        "print(f'Calificación promedio Tienda 3: {calificacion_prom_t3:.2f}')\n",
        "print(f'Calificación promedio Tienda 4: {calificacion_prom_t4:.2f}')"
      ],
      "metadata": {
        "colab": {
          "base_uri": "https://localhost:8080/"
        },
        "id": "NI5A2qCBAe6r",
        "outputId": "14260501-7cf2-44b7-ea33-9ca222f01061"
      },
      "execution_count": 8,
      "outputs": [
        {
          "output_type": "stream",
          "name": "stdout",
          "text": [
            "Calificación promedio Tienda 1: 3.98\n",
            "Calificación promedio Tienda 2: 4.04\n",
            "Calificación promedio Tienda 3: 4.05\n",
            "Calificación promedio Tienda 4: 4.00\n"
          ]
        }
      ]
    },
    {
      "cell_type": "markdown",
      "source": [
        "# 4. Productos más y menos vendidos"
      ],
      "metadata": {
        "id": "DmNp1KPBZCm-"
      }
    },
    {
      "cell_type": "code",
      "source": [
        "# Más y menos vendidos por tienda\n",
        "\n",
        "def resumen_ventas_productos(df, nombre_tienda):\n",
        "    conteo = df['Producto'].value_counts()\n",
        "    print(f\"\\nTienda {nombre_tienda} - Producto más vendido:\")\n",
        "    print(conteo.head(1))\n",
        "    print(f\"\\nTienda {nombre_tienda} - Producto menos vendido:\")\n",
        "    print(conteo.tail(1))\n",
        "    return conteo\n",
        "\n",
        "ventas_t1 = resumen_ventas_productos(tienda, \"1\")\n",
        "ventas_t2 = resumen_ventas_productos(tienda2, \"2\")\n",
        "ventas_t3 = resumen_ventas_productos(tienda3, \"3\")\n",
        "ventas_t4 = resumen_ventas_productos(tienda4, \"4\")"
      ],
      "metadata": {
        "id": "5oPT3Qs7A_f4",
        "colab": {
          "base_uri": "https://localhost:8080/"
        },
        "outputId": "950e2ac2-08dc-4602-c835-779fd118cce6"
      },
      "execution_count": 9,
      "outputs": [
        {
          "output_type": "stream",
          "name": "stdout",
          "text": [
            "\n",
            "Tienda 1 - Producto más vendido:\n",
            "Producto\n",
            "Microondas    60\n",
            "Name: count, dtype: int64\n",
            "\n",
            "Tienda 1 - Producto menos vendido:\n",
            "Producto\n",
            "Celular ABXY    33\n",
            "Name: count, dtype: int64\n",
            "\n",
            "Tienda 2 - Producto más vendido:\n",
            "Producto\n",
            "Iniciando en programación    65\n",
            "Name: count, dtype: int64\n",
            "\n",
            "Tienda 2 - Producto menos vendido:\n",
            "Producto\n",
            "Juego de mesa    32\n",
            "Name: count, dtype: int64\n",
            "\n",
            "Tienda 3 - Producto más vendido:\n",
            "Producto\n",
            "Kit de bancas    57\n",
            "Name: count, dtype: int64\n",
            "\n",
            "Tienda 3 - Producto menos vendido:\n",
            "Producto\n",
            "Bloques de construcción    35\n",
            "Name: count, dtype: int64\n",
            "\n",
            "Tienda 4 - Producto más vendido:\n",
            "Producto\n",
            "Cama box    62\n",
            "Name: count, dtype: int64\n",
            "\n",
            "Tienda 4 - Producto menos vendido:\n",
            "Producto\n",
            "Guitarra eléctrica    33\n",
            "Name: count, dtype: int64\n"
          ]
        }
      ]
    },
    {
      "cell_type": "markdown",
      "source": [
        "# 5. Envios promedio por tienda"
      ],
      "metadata": {
        "id": "rODF_oXjApgl"
      }
    },
    {
      "cell_type": "code",
      "source": [
        "# Calculr el costo de envio promedio por tienda\n",
        "\n",
        "envio_prom_tienda1 = tienda['Costo de envío'].mean()\n",
        "envio_prom_tienda2 = tienda2['Costo de envío'].mean()\n",
        "envio_prom_tienda3 = tienda3['Costo de envío'].mean()\n",
        "envio_prom_tienda4 = tienda4['Costo de envío'].mean()\n",
        "\n",
        "print(f'Costo de envío promedio Tienda 1: {envio_prom_tienda1:.2f}')\n",
        "print(f'Costo de envío promedio Tienda 2: {envio_prom_tienda2:.2f}')\n",
        "print(f'Costo de envío promedio Tienda 3: {envio_prom_tienda3:.2f}')\n",
        "print(f'Costo de envío promedio Tienda 4: {envio_prom_tienda4:.2f}')"
      ],
      "metadata": {
        "id": "BFDT1L8vBBZH",
        "colab": {
          "base_uri": "https://localhost:8080/"
        },
        "outputId": "cc38367c-057a-4df3-de28-7aa9d2835422"
      },
      "execution_count": 10,
      "outputs": [
        {
          "output_type": "stream",
          "name": "stdout",
          "text": [
            "Costo de envío promedio Tienda 1: 26018.61\n",
            "Costo de envío promedio Tienda 2: 25216.24\n",
            "Costo de envío promedio Tienda 3: 24805.68\n",
            "Costo de envío promedio Tienda 4: 23459.46\n"
          ]
        }
      ]
    },
    {
      "cell_type": "markdown",
      "source": [
        "##**ANALISIS DE LOS DATOS**##\n"
      ],
      "metadata": {
        "id": "_mu8ZYDj9bes"
      }
    },
    {
      "cell_type": "markdown",
      "source": [
        "# **Ingreso total por tienda (barras)**"
      ],
      "metadata": {
        "id": "95Yaaijt9hYJ"
      }
    },
    {
      "cell_type": "code",
      "source": [
        "import matplotlib.pyplot as plt\n",
        "\n",
        "ingresos = [facturacion_tienda1, facturacion_tienda2, facturacion_tienda3, facturacion_tienda4]\n",
        "tiendas = ['Tienda 1', 'Tienda 2', 'Tienda 3', 'Tienda 4']\n",
        "\n",
        "plt.figure(figsize=(8,5))\n",
        "plt.bar(tiendas, ingresos, color=['blue', 'orange', 'green', 'red'])\n",
        "plt.title('Ingreso Total por Tienda')\n",
        "plt.ylabel('Ingresos ($)')\n",
        "plt.xlabel('Tiendas')\n",
        "plt.grid(axis='y', linestyle='--', alpha=0.7)\n",
        "plt.show()"
      ],
      "metadata": {
        "id": "R6mDdL5uBBdN",
        "colab": {
          "base_uri": "https://localhost:8080/",
          "height": 487
        },
        "outputId": "178f47ab-7398-4962-8b92-7b5facf00457"
      },
      "execution_count": 11,
      "outputs": [
        {
          "output_type": "display_data",
          "data": {
            "text/plain": [
              "<Figure size 800x500 with 1 Axes>"
            ],
            "image/png": "[encoded data removed]"
          },
          "metadata": {}
        }
      ]
    },
    {
      "cell_type": "markdown",
      "source": [
        "#**Distribucion de categoria por tiendas (barras agrupadas)**"
      ],
      "metadata": {
        "id": "eLkqvkBfDiXP"
      }
    },
    {
      "cell_type": "code",
      "source": [
        "# Obtener categorías únicas combinadas de las 4 tiendas\n",
        "categorias = list(set(tienda['Categoría del Producto'].unique()) | set(tienda2['Categoría del Producto'].unique()) | set(tienda3['Categoría del Producto'].unique()) | set(tienda4['Categoría del Producto'].unique()))\n",
        "\n",
        "# Contar ventas por categoría en cada tienda (llenar 0 si no existe)\n",
        "def contar_por_categoria(df):\n",
        "    conteo = df['Categoría del Producto'].value_counts()\n",
        "    return [conteo.get(cat, 0) for cat in categorias]\n",
        "\n",
        "ventas_t1 = contar_por_categoria(tienda)\n",
        "ventas_t2 = contar_por_categoria(tienda2)\n",
        "ventas_t3 = contar_por_categoria(tienda3)\n",
        "ventas_t4 = contar_por_categoria(tienda4)\n",
        "\n",
        "import numpy as np\n",
        "\n",
        "x = np.arange(len(categorias))\n",
        "ancho = 0.2\n",
        "\n",
        "plt.figure(figsize=(12,6))\n",
        "plt.bar(x - 1.5*ancho, ventas_t1, width=ancho, label='Tienda 1', color='blue')\n",
        "plt.bar(x - 0.5*ancho, ventas_t2, width=ancho, label='Tienda 2', color='orange')\n",
        "plt.bar(x + 0.5*ancho, ventas_t3, width=ancho, label='Tienda 3', color='green')\n",
        "plt.bar(x + 1.5*ancho, ventas_t4, width=ancho, label='Tienda 4', color='red')\n",
        "\n",
        "plt.xticks(x, categorias, rotation=45)\n",
        "plt.ylabel('Cantidad de productos vendidos')\n",
        "plt.title('Distribución de Categorías por Tienda')\n",
        "plt.legend()\n",
        "plt.tight_layout()\n",
        "plt.grid(axis='y', linestyle='--', alpha=0.7)\n",
        "plt.show()"
      ],
      "metadata": {
        "id": "JBK1w4IwBqF8",
        "outputId": "e9103cf7-9f62-4d14-9289-f1d6a9c11c50",
        "colab": {
          "base_uri": "https://localhost:8080/",
          "height": 521
        }
      },
      "execution_count": 24,
      "outputs": [
        {
          "output_type": "display_data",
          "data": {
            "text/plain": [
              "<Figure size 1200x600 with 1 Axes>"
            ],
            "image/png": "[encoded data removed]"
          },
          "metadata": {}
        }
      ]
    },
    {
      "cell_type": "markdown",
      "source": [
        "#**Calificacion promedio y costo de envio promedio (Gráfica de lineas)**"
      ],
      "metadata": {
        "id": "fbw0MYue-G-o"
      }
    },
    {
      "cell_type": "code",
      "source": [
        "\n",
        "\n",
        "# Datos\n",
        "costo_envio_prom = [\n",
        "    tienda['Costo de envío'].mean(),\n",
        "    tienda2['Costo de envío'].mean(),\n",
        "    tienda3['Costo de envío'].mean(),\n",
        "    tienda4['Costo de envío'].mean()\n",
        "]\n",
        "\n",
        "calificacion_prom = [\n",
        "    tienda['Calificación'].mean(),\n",
        "    tienda2['Calificación'].mean(),\n",
        "    tienda3['Calificación'].mean(),\n",
        "    tienda4['Calificación'].mean()\n",
        "]\n",
        "\n",
        "tiendas = ['Tienda 1', 'Tienda 2', 'Tienda 3', 'Tienda 4']\n",
        "\n",
        "# Crear figura\n",
        "fig, ax1 = plt.subplots(figsize=(8, 6))\n",
        "\n",
        "# Barras para costo de envío\n",
        "ax1.bar(tiendas, costo_envio_prom, color='skyblue', label='Costo envío promedio')\n",
        "ax1.set_xlabel('Tiendas')\n",
        "ax1.set_ylabel('Costo envío promedio', color='blue')\n",
        "ax1.tick_params(axis='y', labelcolor='blue')\n",
        "\n",
        "# Eje secundario para calificación\n",
        "ax2 = ax1.twinx()\n",
        "ax2.plot(tiendas, calificacion_prom, color='red', marker='o', label='Calificación promedio')\n",
        "ax2.set_ylabel('Calificación promedio', color='red')\n",
        "ax2.tick_params(axis='y', labelcolor='red')\n",
        "\n",
        "# Título y leyenda\n",
        "plt.title('Costo de envío promedio vs Calificación promedio')\n",
        "fig.tight_layout()\n",
        "plt.show()"
      ],
      "metadata": {
        "id": "ACai1mosMw55",
        "outputId": "613393e9-cb16-464a-fe98-4dffc6a28c32",
        "colab": {
          "base_uri": "https://localhost:8080/",
          "height": 607
        }
      },
      "execution_count": 29,
      "outputs": [
        {
          "output_type": "display_data",
          "data": {
            "text/plain": [
              "<Figure size 800x600 with 2 Axes>"
            ],
            "image/png": "[encoded data removed]"
          },
          "metadata": {}
        }
      ]
    },
    {
      "cell_type": "markdown",
      "source": [
        "##**Informe Final – Análisis de Tiendas Alura Store**\n",
        "\n",
        "####**Introducción**\n",
        "\n",
        "El presente informe tiene como objetivo apoyar al Sr. Juan en la toma de decisión sobre qué tienda de su cadena Alura Store debe vender para iniciar un nuevo emprendimiento. Para ello, se realizó un análisis detallado de las ventas, ingresos, calificaciones de clientes, productos más y menos vendidos, y costos de envío promedio en las cuatro tiendas. Los resultados se presentan a continuación, junto con la recomendación final basada en un enfoque integral.\n",
        "\n",
        "---\n",
        "####**Desarrollo del Análisis**\n",
        "**1. Ingresos Totales**\n",
        "\n",
        "La facturación total de cada tienda fue:\n",
        "\n",
        "Tienda 1: $1,150,880,400.00\n",
        "\n",
        "Tienda 2: $1,116,343,500.00\n",
        "\n",
        "Tienda 3: $1,098,019,600.00\n",
        "\n",
        "Tienda 4: $1,038,375,700.00\n",
        "\n",
        "**La Tienda 1 registra el mayor ingreso, mientras que la Tienda 4 presenta el menor.**\n",
        "\n",
        "---\n",
        "**2. Categorías de Productos Vendidos**\n",
        "\n",
        "En todas las tiendas, **Muebles y Electrónicos** encabezan las ventas, mientras que **Artículos para el hogar y Libros** suelen ocupar los últimos lugares. Ejemplos:\n",
        "\n",
        "**Tienda 1:** Muebles (465) y Electrónicos (448) como principales; Artículos para el hogar (171) y Libros (173) como menos vendidos.\n",
        "\n",
        "**Tienda 4:** Muebles (480) y Electrónicos (451) como principales; Instrumentos musicales (170) y Libros (187) como menos vendidos.\n",
        "\n",
        "Esto indica un patrón de consumo homogéneo en las cuatro tiendas, aunque con ligeras variaciones en volúmenes.\n",
        "\n",
        "---\n",
        "\n",
        "**3. Calificaciones Promedio de Clientes**\n",
        "\n",
        "Las calificaciones promedio fueron:\n",
        "\n",
        "**Tienda 1:** 3.98\n",
        "\n",
        "**Tienda 2:** 4.04\n",
        "\n",
        "**Tienda 3:** 4.05\n",
        "\n",
        "**Tienda 4:** 4.00\n",
        "\n",
        "Las **Tiendas 2 y 3** obtienen las mejores valoraciones, mientras que la **Tienda 1** tiene la más baja, lo que podría indicar oportunidades de mejora en experiencia de cliente.\n",
        "\n",
        "---\n",
        "**4. Productos más y menos vendidos**\n",
        "\n",
        "**Tienda 1:** + Microondas (60) / – Celular ABXY (33)\n",
        "\n",
        "**Tienda 2:** + Iniciando en programación (65) / – Juego de mesa (32)\n",
        "\n",
        "**Tienda 3:** + Kit de bancas (57) / – Bloques de construcción (35)\n",
        "\n",
        "**Tienda 4:** + Cama box (62) / – Guitarra eléctrica (33)\n",
        "\n",
        "No se observa un patrón común en productos menos vendidos, lo que sugiere que la baja rotación es específica de ciertos inventarios por tienda.\n",
        "\n",
        "---\n",
        "**5. Costos de Envío Promedio**\n",
        "**Tienda 1:** $26,018.61\n",
        "\n",
        "**Tienda 2:** $25,216.24\n",
        "\n",
        "**Tienda 3:** $24,805.68\n",
        "\n",
        "**Tienda 4:** $23,459.46\n",
        "\n",
        "La **Tienda 4** presenta el menor costo de envío, lo cual puede ser un factor de competitividad en precio, aunque no se refleja en sus ingresos.\n",
        "\n",
        "---\n",
        "####**Conclusión y Recomendación**\n",
        "\n",
        "Tras el análisis, la **Tienda 4** se perfila como la candidata más adecuada para ser vendida, debido a:\n",
        "\n",
        "**Menor facturación:** Tiene los ingresos más bajos de las cuatro tiendas ($1,038,375,700.00).\n",
        "\n",
        "**Rendimiento promedio:** Aunque mantiene una calificación aceptable (4.00), está por debajo de las Tiendas 2 y 3.\n",
        "\n",
        "**Menor diversidad competitiva:** Presenta ventas concentradas en categorías principales y bajos volúmenes en otras áreas.\n",
        "\n",
        "**Costo de envío más bajo:** Aunque es un punto positivo, no compensa su menor desempeño general.\n",
        "\n",
        "**Por estas razones, se recomienda que el Sr. Juan considere vender la Tienda 4, ya que su desempeño comercial es el más débil en relación con las demás, y su venta tendría un impacto menor sobre los ingresos totales de la cadena.**\n",
        "\n",
        "\n",
        "\n",
        "\n"
      ],
      "metadata": {
        "id": "tW580GAfS-HA"
      }
    },
    {
      "cell_type": "code",
      "source": [],
      "metadata": {
        "id": "XG4UZqmaV6dF"
      },
      "execution_count": null,
      "outputs": []
    }
  ]
}